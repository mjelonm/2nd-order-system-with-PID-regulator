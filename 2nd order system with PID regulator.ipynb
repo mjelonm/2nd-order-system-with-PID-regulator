{
 "cells": [
  {
   "cell_type": "code",
   "execution_count": 1,
   "metadata": {},
   "outputs": [],
   "source": [
    "import numpy as np\n",
    "import matplotlib.pyplot as plt\n",
    "from scipy.integrate import odeint\n",
    "from ipywidgets import interact\n",
    "import ipywidgets as wdgt\n",
    "from IPython.display import display"
   ]
  },
  {
   "cell_type": "code",
   "execution_count": 2,
   "metadata": {},
   "outputs": [],
   "source": [
    "def sys(y, t, u, T, dz, k):\n",
    "    y1, y2 = y\n",
    "    dydt = [y2, - (T**2)*y2 - 2*T*dz*y1 + k*u]\n",
    "    return dydt\n",
    "\n",
    "def PID (e, Kp, Ti, ei, Td, de, umin, umax, dt):\n",
    "    u = Kp * (e + (1/Ti)*ei + Td*de)\n",
    "    if u > umax:\n",
    "        u = umax\n",
    "        ei = ei - e*dt\n",
    "    if u < umin:\n",
    "        u = umin\n",
    "        eu = ei - e*dt\n",
    "    return u, ei"
   ]
  },
  {
   "cell_type": "code",
   "execution_count": 18,
   "metadata": {},
   "outputs": [],
   "source": [
    "def Sys (T, dz, k):\n",
    "    t = np.linspace(0, 10, 101)\n",
    "    y = np.zeros((len(t)))\n",
    "    u = np.zeros(len(t))\n",
    "    u[10:] = 1\n",
    "    y0 = [0, 0]\n",
    "\n",
    "    for i in range(len(t)-1):\n",
    "        ts = [t[i], t[i+1]]\n",
    "        sol = odeint(sys, y0, ts, args = (u[i], T, dz, k))\n",
    "        y0 = sol[-1,:]\n",
    "        y[i+1] = y0[0]\n",
    "    plt.plot(t, y, label='y(t)')\n",
    "    plt.plot(t, u, label='sp(t)')\n",
    "    plt.grid()\n",
    "    plt.legend()\n",
    "    plt.xlabel('t') \n",
    "    plt.title('Step response')"
   ]
  },
  {
   "cell_type": "code",
   "execution_count": 19,
   "metadata": {},
   "outputs": [
    {
     "data": {
      "application/vnd.jupyter.widget-view+json": {
       "model_id": "4503e20a44764242afe751008240c767",
       "version_major": 2,
       "version_minor": 0
      },
      "text/plain": [
       "interactive(children=(FloatSlider(value=1.0, description='T', max=10.0, step=1.0), FloatSlider(value=6.0, desc…"
      ]
     },
     "metadata": {},
     "output_type": "display_data"
    },
    {
     "data": {
      "text/plain": [
       "<function __main__.Sys(T, dz, k)>"
      ]
     },
     "execution_count": 19,
     "metadata": {},
     "output_type": "execute_result"
    }
   ],
   "source": [
    "Ts = wdgt.FloatSlider(min = 0, max = 10, step = 1, value = 1)\n",
    "dzs = wdgt.FloatSlider(min = 0, max = 10, step = .1, value = 6)\n",
    "ks = wdgt.FloatSlider(min = 0, max = 10, step = 1, value = 4)\n",
    "wdgt.interact(Sys, T = Ts, dz = dzs, k = ks)"
   ]
  },
  {
   "cell_type": "code",
   "execution_count": 22,
   "metadata": {},
   "outputs": [],
   "source": [
    "def Sym (Kp, Ti, Td):\n",
    "    T = Ts.value\n",
    "    dz = dzs.value\n",
    "    k = ks.value\n",
    "    \n",
    "    t = np.linspace(0, 50, 501)\n",
    "    dt = t[1] - t[0]\n",
    "    u = np.zeros(len(t))\n",
    "    sp = np.zeros(len(t))\n",
    "    sp[10:] = 1\n",
    "    \n",
    "    y = np.zeros((len(t), 2))\n",
    "    e = np.zeros(len(t))\n",
    "    ei = np.zeros(len(t))\n",
    "    de = np.zeros(len(t))\n",
    "    \n",
    "    for i in range (len(t)-1):\n",
    "        ts = [t[i], t[i+1]]\n",
    "        e[i] = sp[i] - y[i,0]\n",
    "        if i >=1:\n",
    "            ei[i] = ei[i-1] + e[i]*dt\n",
    "            de[i] = (y[i,0] - y[i-1,0])/dt\n",
    "            u[i], ei[i] = PID(e[i], Kp, Ti, ei[i], Td, de[i], 0, 3, dt) \n",
    "\n",
    "        sol = odeint(sys, y[i], ts, args = (u[i], T, dz, k))\n",
    "        y[i+1,0] = sol[-1,0]\n",
    "\n",
    "    fig, (ax1, ax2) = plt.subplots(2, 1, figsize=(15, 10))\n",
    "    ax1.plot(t[:-1], y[:-1,0], label='y(t)')\n",
    "    ax1.plot(t, sp, label='sp(t)')\n",
    "    ax2.plot(t[:-1], u[:-1], label='u(t)')\n",
    "    ax1.grid()\n",
    "    ax2.grid()\n",
    "    ax1.legend()\n",
    "    ax2.legend()  \n",
    "    ax1.set_xlabel('t')\n",
    "    ax2.set_xlabel('t')\n",
    "    ax1.set_title('Step response')\n",
    "    ax2.set_title('Control signal')"
   ]
  },
  {
   "cell_type": "code",
   "execution_count": 21,
   "metadata": {},
   "outputs": [
    {
     "data": {
      "application/vnd.jupyter.widget-view+json": {
       "model_id": "83999cdeb45f4dd8bc593cfbf45c7dd4",
       "version_major": 2,
       "version_minor": 0
      },
      "text/plain": [
       "interactive(children=(FloatSlider(value=2.0, description='Kp', max=10.0, min=1.0, step=1.0), FloatSlider(value…"
      ]
     },
     "metadata": {},
     "output_type": "display_data"
    },
    {
     "data": {
      "text/plain": [
       "<function __main__.Sym(Kp, Ti, Td)>"
      ]
     },
     "execution_count": 21,
     "metadata": {},
     "output_type": "execute_result"
    }
   ],
   "source": [
    "Kps = wdgt.FloatSlider(min = 1, max = 10, step = 1, value = 2)\n",
    "Tis = wdgt.FloatSlider(min = .1, max = 10, step = .1, value = 1)\n",
    "Tds = wdgt.FloatSlider(min = 0, max = 10, step = .1, value = .1)\n",
    "wdgt.interact_manual(Sym, Kp = Kps, Ti = Tis, Td = Tds)"
   ]
  }
 ],
 "metadata": {
  "kernelspec": {
   "display_name": "Python 3 (ipykernel)",
   "language": "python",
   "name": "python3"
  },
  "language_info": {
   "codemirror_mode": {
    "name": "ipython",
    "version": 3
   },
   "file_extension": ".py",
   "mimetype": "text/x-python",
   "name": "python",
   "nbconvert_exporter": "python",
   "pygments_lexer": "ipython3",
   "version": "3.9.7"
  }
 },
 "nbformat": 4,
 "nbformat_minor": 2
}
